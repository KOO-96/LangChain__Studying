{
 "cells": [
  {
   "cell_type": "markdown",
   "id": "23bbaa9e",
   "metadata": {},
   "source": [
    "# LangChain + Chat -- ConversationChain"
   ]
  },
  {
   "cell_type": "markdown",
   "id": "6d8c00a0",
   "metadata": {},
   "source": [
    "### LangChain + Chat의 구성\n",
    "\n",
    "- Chat model\n",
    "    - LLM을 활용한 대화 흐름(Conversation) 생성이 가능하다.\n",
    "- Prompt Template\n",
    "    - 기본 메세지, 입력, 채팅 로그, 문맥을 결합해 프롬프트를 쉽게 구성할 수 있다.\n",
    "- Memory\n",
    "    - 대화 흐름에서 대화의 내용을 기록하는 용도\n",
    "- Retriever\n",
    "    - 문서의 로드 및 검색을 할 때 활용이 가능"
   ]
  },
  {
   "cell_type": "code",
   "execution_count": null,
   "id": "0482a0b6",
   "metadata": {},
   "outputs": [],
   "source": [
    "# 라이브러리 설치\n",
    "# pip install langchain openai"
   ]
  },
  {
   "cell_type": "code",
   "execution_count": null,
   "id": "9c8e0df7",
   "metadata": {},
   "outputs": [],
   "source": [
    "import os\n",
    "\n",
    "os.environ['OPENAI_API_KEY'] = '발급받은 OPENAI API KEY'"
   ]
  },
  {
   "cell_type": "markdown",
   "id": "a5ff237f",
   "metadata": {},
   "source": [
    "#### ChatBot 생성"
   ]
  },
  {
   "cell_type": "code",
   "execution_count": null,
   "id": "00c02a81",
   "metadata": {},
   "outputs": [],
   "source": [
    "from langchain.schema import AIMessage, HumanMessage\n",
    "from langchain.chat_models import ChatOpenAI\n",
    "\n",
    "# LLM\n",
    "chat = ChatOpenAI\n",
    "\n",
    "# Run\n",
    "chat(\n",
    "    [HumanMessage(content=\"영어로 번역해줘:나는 프로그래밍을 공부하고 있어요\")]\n",
    ")"
   ]
  },
  {
   "cell_type": "markdown",
   "id": "f0203bdc",
   "metadata": {},
   "source": [
    "- SystemMessage\n",
    "    - AI 에게 상황을 지정하거나 역할을 부여합니다.\n",
    "\n",
    "- HumanMessage\n",
    "    - 사용자의 입력 메세지\n",
    "\n",
    "- AIMessage\n",
    "    - AI의 답변 메세지"
   ]
  },
  {
   "cell_type": "code",
   "execution_count": null,
   "id": "e6067226",
   "metadata": {},
   "outputs": [],
   "source": [
    "# 예시를 통해 확인해 봅시다.\n",
    "\n",
    "message = [\n",
    "    SystemMessage(content:\"당신의 역할은 한글을 영어로 번역해주는 번역가 입니다.\"),\n",
    "    HumanMessage(content:\"나는 프로그래밍을 정말 좋아해요.\")\n",
    "]\n",
    "\n",
    "chat(messages)\n",
    "\n",
    "AIMessage(content='I really love programming.', additional_kwargs={}, example=False)"
   ]
  },
  {
   "cell_type": "code",
   "execution_count": null,
   "id": "0adf87fa",
   "metadata": {},
   "outputs": [],
   "source": [
    "# 만약 System에게 다른 역할을 부여해보겠습니다.\n",
    "\n",
    "message = [\n",
    "    SystemMessage(content:\"너는 MBTI 예측가야.\"),\n",
    "    HumanMessage(content:\"나는 프로그래밍을 정말 좋아해요.\")\n",
    "]\n",
    "\n",
    "chat(messages)\n",
    "\n",
    "# AIMessage(content='프로그래밍을 좋아하시는 분들은 주로 논리적이고 분석적인 사고력을 가지고 있습니다. 이들은 문제 해결에 대한 열정과 호기심을 가지고 있으며, 복잡한 문제를 해결하는 데에 도전하는 것을 즐깁니다. 또한, 프로그래밍은 창의력을 요구하므로, 이들은 문제에 새로운 접근법을 생각해내고 새로운 아이디어를 구현하는 데에 능숙합니다.\\n\\n또한, 프로그래밍은 협업이 필요한 분야이기 때문에, 소통과 협력을 잘할 수 있는 능력을 가지고 있는 경우가 많습니다. 다른 사람들과 아이디어를 공유하고 피드백을 주고 받으며, 함께 프로젝트를 완성하는 과정을 즐깁니다.\\n\\n프로그래밍은 자기계발에 대한 욕구를 충족시키는 분야이기도 합니다. 지속적인 학습과 스스로 개선하는 노력이 필요하기 때문에, 스스로에게 동기를 부여하고 목표를 설정하는 능력을 가지고 있습니다.\\n\\n이러한 특성들은 프로그래밍을 좋아하는 분들이 현실적이고 목표지향적인 성격을 가질 수 있다는 것을 보여줍니다. 하지만, 이는 개인에 따라 다를 수 있으므로 각 개인의 심리적 특성과 경험을 고려하여 상세한 분석이 필요합니다.', additional_kwargs={}, example=False)"
   ]
  },
  {
   "cell_type": "code",
   "execution_count": null,
   "id": "8a81ad5c",
   "metadata": {},
   "outputs": [],
   "source": [
    "message = [\n",
    "    SystemMessage(content:\"너는 심리를 분석하는 심리 분석가야.\"),\n",
    "    HumanMessage(content:\"나는 프로그래밍을 정말 좋아해요.\")\n",
    "]\n",
    "\n",
    "chat(messages)\n",
    "\n",
    "# AIMessage(content='그렇군요! 프로그래밍을 좋아하는 사람들은 다양한 MBTI 유형일 수 있습니다. 그럼 몇 가지 질문을 통해 당신의 성향을 파악해볼까요?\\n\\n1. 새로운 아이디어나 프로젝트에 대해 빠르게 행동하고 적극적으로 참여하는 편인가요? (예: 새로운 프로그래밍 언어를 배우고 싶을 때, 바로 시작해보는 등)\\n2. 프로그래밍을 할 때 세부 사항에 집중하며 꼼꼼하게 작업하는 편인가요? (예: 코드의 문법을 완벽하게 맞추려고 노력하는 등)\\n3. 프로젝트를 진행할 때 계획을 세우고 구체적인 일정을 따라가는 편인가요? (예: 일정에 맞춰 기능을 구현하고 테스트하는 등)\\n4. 다른 사람들과 협업하는 것을 즐기는 편인가요? (예: 팀 프로젝트를 할 때 다른 팀원들과 의견을 공유하고 협력하는 등)\\n5. 문제가 발생했을 때 차분하게 분석하고 해결책을 찾는 편인가요? (예: 버그를 발견했을 때 원인을 파악하고 수정하는 등)\\n\\n이러한 질문을 통해 당신의 성향을 파악하여 MBTI 유형을 예측해볼 수 있습니다.', additional_kwargs={}, example=False)"
   ]
  },
  {
   "cell_type": "markdown",
   "id": "50c6cb49",
   "metadata": {},
   "source": [
    "## ConversationChain\n",
    "\n",
    "--> Chat Model + Memory\n",
    "\n",
    "- Chat Model은 대화 내용을 저장/기록하는 작업을 직접 수행해야합니다. 하지만 ConversationChain을 활용하면, Memory에 자동으로 대화내용을 저장합니다. 즉, ConversationChain에는 자체 내장 메모리가 있어 저장하는 작업이 생략가능합니다."
   ]
  },
  {
   "cell_type": "code",
   "execution_count": null,
   "id": "a4990925",
   "metadata": {},
   "outputs": [],
   "source": [
    "from langchain.chains import ConversationChain  \n",
    "\n",
    "# ConversationChain 객체 생성\n",
    "conversation = ConversationChain(llm=chat)\n",
    "\n",
    "# 1차 답변\n",
    "print(conversation.run(\"다음을 영어로 번역해 줘: 나는 프로그래밍을 정말 좋아해요\"))\n",
    "\n",
    "# Sure! The sentence \"나는 프로그래밍을 정말 좋아해요\" translates to \"I really love programming\" in English. Programming is a fascinating field that allows you to create and build various applications and software. It requires logical thinking, problem-solving skills, and creativity. If you have any other questions or need further assistance, feel free to ask!\n",
    "\n",
    "# 2차 답변\n",
    "print(conversation.run(\"나는 운동도 정말 좋아해요\"))\n",
    "\n",
    "# That's great to hear! The sentence \"나는 운동도 정말 좋아해요\" translates to \"I also really love exercising\" in English. Exercising is an excellent way to stay fit and healthy. It helps improve cardiovascular health, build muscle strength, and enhance overall physical well-being. There are many different types of exercises you can enjoy, such as running, swimming, cycling, weightlifting, and yoga. Is there a specific type of exercise you prefer or any other topic you would like to discuss?"
   ]
  },
  {
   "cell_type": "code",
   "execution_count": null,
   "id": "2ea24ca2",
   "metadata": {},
   "outputs": [],
   "source": [
    "# Template형태로 만들어 보겠습니다.\n",
    "\n",
    "from langchain.memory import ConversationBufferMemory\n",
    "from langchain.prompts import (\n",
    "    ChatPromptTemplate,\n",
    "    MessagesPlaceholder,\n",
    "    SystemMessagePromptTemplate,\n",
    "    HumanMessagePromptTemplate,\n",
    ")\n",
    "from langchain.chains import LLMChain\n",
    "\n",
    "\n",
    "# 1) 시스템 설정: 역할부여 정의\n",
    "system_template = SystemMessagePromptTemplate.from_template(\"너는 한글을 {language}로 번역해 주는 번역전문가야.\")\n",
    "system_message = system_template.format(language=\"영어\")\n",
    "\n",
    "# 2) ChatPromptTemplate 템플릿 정의\n",
    "prompt = ChatPromptTemplate.from_messages([\n",
    "    system_message,                                              # 역할부여\n",
    "    MessagesPlaceholder(variable_name=\"chat_history\"),           # 메모리 저장소 설정. ConversationBufferMemory의 memory_key 와 동일하게 설정\n",
    "    HumanMessagePromptTemplate.from_template(\"{human_input}\"),   # 사용자 메시지 injection\n",
    "])\n",
    "\n",
    "\n",
    "# 3) 메모리 정의\n",
    "# `return_messages=True`를 사용해야 MessagesPlaceholder에 주입됨\n",
    "# `chat_history`가 MessagesPlaceholder 이름과 일치해야함\n",
    "memory = ConversationBufferMemory(memory_key=\"chat_history\", \n",
    "                                  ai_prefix=\"번역가\",\n",
    "                                  human_prefix=\"사용자\",\n",
    "                                  return_messages=True)\n",
    "\n",
    "\n",
    "# 4) LLM 모델 정의\n",
    "llm = ChatOpenAI(model_name='gpt-3.5-turbo')\n",
    "\n",
    "# 5) LLMChain 정의\n",
    "conversation = LLMChain(\n",
    "    llm=llm,       # LLM\n",
    "    prompt=prompt, # Prompt\n",
    "    verbose=True,  # True 로 설정시 로그 출력\n",
    "    memory=memory  # 메모리\n",
    ")\n",
    "\n",
    "# 6) 실행\n",
    "answer = conversation({\"human_input\": \"나는 프로그래밍을 정말 좋아해요\"})\n",
    "print(answer['text'])"
   ]
  },
  {
   "cell_type": "code",
   "execution_count": null,
   "id": "a3ee0285",
   "metadata": {},
   "outputs": [],
   "source": [
    "# 대화목록 출력\n",
    "memory.load_memory_variables({})\n",
    "\n",
    "# 대화 내용 초기화\n",
    "memory.clear()"
   ]
  },
  {
   "cell_type": "markdown",
   "id": "fe38e1b3",
   "metadata": {},
   "source": [
    "- 대화내용 요약 메모리\n",
    "    - ConversationSummaryBufferMemory : 최근 대화 내용을 메모리에 저장합니다.\n",
    "    - 다만 대화가 길어지면 이전의 대화내용을 모두 포함할 순 없습니다. 따라서 이전 대화 내용이 삭제되는데, ConversationSummaryBufferMemory를 사용하면서 요약된 정보로 만듭니다.\n",
    "    - 대화 요약이 시작되는 지점은 interaction횟수가 초과된 경우 또는 토큰 길이가 초과된 경우를 기준으로 요약이 시작됩니다."
   ]
  },
  {
   "cell_type": "code",
   "execution_count": null,
   "id": "2793ca85",
   "metadata": {},
   "outputs": [],
   "source": [
    "from langchain.memory import ConversationSummaryBufferMemory\n",
    "from langchain.callbacks.streaming_stdout import StreamingStdOutCallbackHandler\n",
    "\n",
    "\n",
    "# 1) 시스템 설정: 역할부여 정의\n",
    "system_template = SystemMessagePromptTemplate.from_template(\n",
    "    \"너는 회사의 마케팅 담당자야. 다음의 상품 정보를 바탕으로 고객 응대를 해줘.\\n{product}\"\n",
    ")\n",
    "system_message = system_template.format(product=\n",
    "                                        \"\"\"\n",
    "                                        상품명: 하늘을 나는 스마트폰\n",
    "                                        제품가격: 300만원\n",
    "                                        주요기능:\n",
    "                                        - 스마트폰을 공중에 띄울 수 있음\n",
    "                                        - 방수기능\n",
    "                                        - 최신식 인공지능 솔루션 탑재\n",
    "                                        - 전화통화\n",
    "                                        - 음악\n",
    "                                        - 인터넷 브라우징, 5G 네트워크, 와이파이, 블루투스\n",
    "                                        제조사: 파인애플\n",
    "                                        \"\"\"\n",
    "                                       )\n",
    "\n",
    "# 2) ChatPromptTemplate 템플릿 정의\n",
    "prompt = ChatPromptTemplate.from_messages([\n",
    "    system_message,                                              # 역할부여\n",
    "    MessagesPlaceholder(variable_name=\"chat_history\"),           # 메모리 저장소 설정. ConversationBufferMemory의 memory_key 와 동일하게 설정\n",
    "    HumanMessagePromptTemplate.from_template(\"{human_input}\"),   # 사용자 메시지 injection\n",
    "])\n",
    "\n",
    "\n",
    "# 3) 메모리 정의\n",
    "memory = ConversationSummaryBufferMemory(llm=llm, \n",
    "                                         memory_key=\"chat_history\", \n",
    "                                         max_token_limit=10, \n",
    "                                         return_messages=True\n",
    "                                        )\n",
    "\n",
    "\n",
    "# 4) LLM 모델 정의\n",
    "llm = ChatOpenAI(model_name='gpt-3.5-turbo', \n",
    "                 temperature=0.5,\n",
    "                 streaming=True,\n",
    "                 callbacks=[StreamingStdOutCallbackHandler()])\n",
    "\n",
    "# 5) LLMChain 정의\n",
    "conversation = LLMChain(\n",
    "    llm=llm,       # LLM\n",
    "    prompt=prompt, # Prompt\n",
    "    verbose=True,  # True 로 설정시 로그 출력\n",
    "    memory=memory  # 메모리\n",
    ")\n",
    "\n",
    "# 6) 실행\n",
    "answer = conversation({\"human_input\": \"저에게 추천해 줄만한 상품이 있나요?\"})"
   ]
  }
 ],
 "metadata": {
  "kernelspec": {
   "display_name": "Python 3 (ipykernel)",
   "language": "python",
   "name": "python3"
  },
  "language_info": {
   "codemirror_mode": {
    "name": "ipython",
    "version": 3
   },
   "file_extension": ".py",
   "mimetype": "text/x-python",
   "name": "python",
   "nbconvert_exporter": "python",
   "pygments_lexer": "ipython3",
   "version": "3.11.4"
  }
 },
 "nbformat": 4,
 "nbformat_minor": 5
}
